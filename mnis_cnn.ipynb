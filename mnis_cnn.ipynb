{
  "nbformat": 4,
  "nbformat_minor": 0,
  "metadata": {
    "colab": {
      "name": "Untitled9.ipynb",
      "version": "0.3.2",
      "provenance": []
    },
    "kernelspec": {
      "name": "python3",
      "display_name": "Python 3"
    },
    "accelerator": "GPU"
  },
  "cells": [
    {
      "cell_type": "code",
      "metadata": {
        "id": "tS0OWdOFeDU9",
        "colab_type": "code",
        "colab": {}
      },
      "source": [
        "from keras.models import Sequential"
      ],
      "execution_count": 0,
      "outputs": []
    },
    {
      "cell_type": "code",
      "metadata": {
        "id": "618iEv6jeQCR",
        "colab_type": "code",
        "colab": {}
      },
      "source": [
        "from keras.layers import *"
      ],
      "execution_count": 0,
      "outputs": []
    },
    {
      "cell_type": "code",
      "metadata": {
        "id": "WiOOkI3mMFvv",
        "colab_type": "code",
        "colab": {
          "base_uri": "https://localhost:8080/",
          "height": 476
        },
        "outputId": "c7824644-2286-4a22-d3ea-fa10d687d410"
      },
      "source": [
        "model =  Sequential()\n",
        "model.add(Conv2D(32,(3,3), activation='relu', input_shape=(28,28,1)))\n",
        "model.add(MaxPool2D((2,2)))\n",
        "model.add(Conv2D(64,(3,3), activation='relu', input_shape=(28,28,1)))\n",
        "model.add(MaxPool2D((2,2)))\n",
        "model.add(Conv2D(128,(3,3), activation='relu', input_shape=(28,28,1)))\n",
        "model.add(MaxPool2D((2,2)))\n",
        "model.add(Flatten())\n",
        "model.add(Dense(32,activation='tanh'))\n",
        "model.add(Dense(64,activation='tanh'))\n",
        "model.add(Dense(10,activation='softmax'))\n",
        "model.summary()"
      ],
      "execution_count": 69,
      "outputs": [
        {
          "output_type": "stream",
          "text": [
            "_________________________________________________________________\n",
            "Layer (type)                 Output Shape              Param #   \n",
            "=================================================================\n",
            "conv2d_19 (Conv2D)           (None, 26, 26, 32)        320       \n",
            "_________________________________________________________________\n",
            "max_pooling2d_19 (MaxPooling (None, 13, 13, 32)        0         \n",
            "_________________________________________________________________\n",
            "conv2d_20 (Conv2D)           (None, 11, 11, 64)        18496     \n",
            "_________________________________________________________________\n",
            "max_pooling2d_20 (MaxPooling (None, 5, 5, 64)          0         \n",
            "_________________________________________________________________\n",
            "conv2d_21 (Conv2D)           (None, 3, 3, 128)         73856     \n",
            "_________________________________________________________________\n",
            "max_pooling2d_21 (MaxPooling (None, 1, 1, 128)         0         \n",
            "_________________________________________________________________\n",
            "flatten_7 (Flatten)          (None, 128)               0         \n",
            "_________________________________________________________________\n",
            "dense_18 (Dense)             (None, 32)                4128      \n",
            "_________________________________________________________________\n",
            "dense_19 (Dense)             (None, 64)                2112      \n",
            "_________________________________________________________________\n",
            "dense_20 (Dense)             (None, 10)                650       \n",
            "=================================================================\n",
            "Total params: 99,562\n",
            "Trainable params: 99,562\n",
            "Non-trainable params: 0\n",
            "_________________________________________________________________\n"
          ],
          "name": "stdout"
        }
      ]
    },
    {
      "cell_type": "code",
      "metadata": {
        "id": "1midOP8lNU5V",
        "colab_type": "code",
        "colab": {}
      },
      "source": [
        "from keras.datasets import mnist\n",
        "from keras.utils import to_categorical"
      ],
      "execution_count": 0,
      "outputs": []
    },
    {
      "cell_type": "code",
      "metadata": {
        "id": "dJp7ukINNx2k",
        "colab_type": "code",
        "colab": {}
      },
      "source": [
        "(xtr,ytr),(xt,yt) = mnist.load_data()"
      ],
      "execution_count": 0,
      "outputs": []
    },
    {
      "cell_type": "code",
      "metadata": {
        "id": "0m3qpBAON9wV",
        "colab_type": "code",
        "colab": {}
      },
      "source": [
        "def pre(x,y):\n",
        "  x = x.reshape((-1,28,28,1))\n",
        "  x = x/255.0\n",
        "  y = to_categorical(y)\n",
        "  return x,y"
      ],
      "execution_count": 0,
      "outputs": []
    },
    {
      "cell_type": "code",
      "metadata": {
        "id": "DsyuCUwxOc9l",
        "colab_type": "code",
        "colab": {}
      },
      "source": [
        "xtr,ytr=pre(xtr,ytr)"
      ],
      "execution_count": 0,
      "outputs": []
    },
    {
      "cell_type": "code",
      "metadata": {
        "id": "Ef4ZZGRvOgh0",
        "colab_type": "code",
        "colab": {}
      },
      "source": [
        "xt,yt=pre(xt,yt)"
      ],
      "execution_count": 0,
      "outputs": []
    },
    {
      "cell_type": "code",
      "metadata": {
        "id": "fG9Ctd4yOizU",
        "colab_type": "code",
        "colab": {}
      },
      "source": [
        "model.compile(optimizer='adam', loss='categorical_crossentropy', metrics=['accuracy'])"
      ],
      "execution_count": 0,
      "outputs": []
    },
    {
      "cell_type": "code",
      "metadata": {
        "id": "ZHcxmq8fO6sF",
        "colab_type": "code",
        "colab": {
          "base_uri": "https://localhost:8080/",
          "height": 391
        },
        "outputId": "ac1cff64-dcc8-4f74-a5f3-ac4f46ef9a5c"
      },
      "source": [
        "model.fit(xtr,ytr,epochs=10,batch_size=512,validation_split=0.1)"
      ],
      "execution_count": 76,
      "outputs": [
        {
          "output_type": "stream",
          "text": [
            "Train on 54000 samples, validate on 6000 samples\n",
            "Epoch 1/10\n",
            "54000/54000 [==============================] - 4s 81us/step - loss: 0.6841 - acc: 0.8181 - val_loss: 0.1811 - val_acc: 0.9568\n",
            "Epoch 2/10\n",
            "54000/54000 [==============================] - 3s 58us/step - loss: 0.1493 - acc: 0.9577 - val_loss: 0.1162 - val_acc: 0.9695\n",
            "Epoch 3/10\n",
            "54000/54000 [==============================] - 3s 57us/step - loss: 0.0974 - acc: 0.9721 - val_loss: 0.0707 - val_acc: 0.9798\n",
            "Epoch 4/10\n",
            "54000/54000 [==============================] - 3s 56us/step - loss: 0.0778 - acc: 0.9777 - val_loss: 0.0640 - val_acc: 0.9813\n",
            "Epoch 5/10\n",
            "54000/54000 [==============================] - 3s 57us/step - loss: 0.0603 - acc: 0.9821 - val_loss: 0.0544 - val_acc: 0.9830\n",
            "Epoch 6/10\n",
            "54000/54000 [==============================] - 3s 56us/step - loss: 0.0512 - acc: 0.9852 - val_loss: 0.0562 - val_acc: 0.9845\n",
            "Epoch 7/10\n",
            "54000/54000 [==============================] - 3s 56us/step - loss: 0.0451 - acc: 0.9867 - val_loss: 0.0542 - val_acc: 0.9848\n",
            "Epoch 8/10\n",
            "54000/54000 [==============================] - 3s 57us/step - loss: 0.0379 - acc: 0.9886 - val_loss: 0.0512 - val_acc: 0.9852\n",
            "Epoch 9/10\n",
            "54000/54000 [==============================] - 3s 56us/step - loss: 0.0339 - acc: 0.9900 - val_loss: 0.0466 - val_acc: 0.9865\n",
            "Epoch 10/10\n",
            "54000/54000 [==============================] - 3s 58us/step - loss: 0.0307 - acc: 0.9908 - val_loss: 0.0410 - val_acc: 0.9883\n"
          ],
          "name": "stdout"
        },
        {
          "output_type": "execute_result",
          "data": {
            "text/plain": [
              "<keras.callbacks.History at 0x7f4402c17dd8>"
            ]
          },
          "metadata": {
            "tags": []
          },
          "execution_count": 76
        }
      ]
    },
    {
      "cell_type": "code",
      "metadata": {
        "id": "_o8VT65aPL7d",
        "colab_type": "code",
        "colab": {
          "base_uri": "https://localhost:8080/",
          "height": 51
        },
        "outputId": "bcaad3ff-a5e7-49c3-f484-6930fef36afa"
      },
      "source": [
        "model.evaluate(xt,yt)"
      ],
      "execution_count": 78,
      "outputs": [
        {
          "output_type": "stream",
          "text": [
            "10000/10000 [==============================] - 1s 94us/step\n"
          ],
          "name": "stdout"
        },
        {
          "output_type": "execute_result",
          "data": {
            "text/plain": [
              "[0.04868986774124205, 0.986]"
            ]
          },
          "metadata": {
            "tags": []
          },
          "execution_count": 78
        }
      ]
    },
    {
      "cell_type": "code",
      "metadata": {
        "id": "W9HMLE2SRAHY",
        "colab_type": "code",
        "colab": {}
      },
      "source": [
        ""
      ],
      "execution_count": 0,
      "outputs": []
    }
  ]
}